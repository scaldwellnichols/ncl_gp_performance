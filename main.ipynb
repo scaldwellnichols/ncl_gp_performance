{
 "cells": [
  {
   "cell_type": "code",
   "execution_count": null,
   "metadata": {},
   "outputs": [],
   "source": [
    "import pandas as pd\n",
    "import numpy as np\n",
    "import seaborn as sns\n",
    "import pathlib as path\n",
    "import matplotlib.pyplot as plt\n",
    "import requests\n",
    "\n",
    "import geopandas as gpd\n",
    "from geopy.geocoders import Nominatim\n",
    "from geopy.extra.rate_limiter import RateLimiter\n",
    "import contextily as ctx\n",
    "\n",
    "from src import parameters as params\n",
    "from src import utils"
   ]
  },
  {
   "cell_type": "markdown",
   "metadata": {},
   "source": [
    "## Read data"
   ]
  },
  {
   "cell_type": "code",
   "execution_count": null,
   "metadata": {},
   "outputs": [],
   "source": [
    "df = pd.read_csv(params.DATA_DIR / 'task_dataset.csv')"
   ]
  },
  {
   "cell_type": "markdown",
   "metadata": {},
   "source": [
    "There is one record for each GP in England:"
   ]
  },
  {
   "cell_type": "code",
   "execution_count": null,
   "metadata": {},
   "outputs": [],
   "source": [
    "len(df) == len(df.gp_code.drop_duplicates())"
   ]
  },
  {
   "cell_type": "markdown",
   "metadata": {},
   "source": [
    "## Derive performance metrics"
   ]
  },
  {
   "cell_type": "markdown",
   "metadata": {},
   "source": [
    "### Efficiency"
   ]
  },
  {
   "cell_type": "markdown",
   "metadata": {},
   "source": [
    "Here we calculate the number of appointments per gp. \n",
    "\n",
    "In some cases the number of GPs < 1. This causes the number of appointments per gp to be greater than the number of appointments.\n",
    "In this case we simply take attended appointments to be the number of appointments per gp."
   ]
  },
  {
   "cell_type": "code",
   "execution_count": null,
   "metadata": {},
   "outputs": [],
   "source": [
    "df['patients_per_gp'] = df['numberofpatients'] / (np.ceil(df['qualified_gp']) + np.ceil(df['training_gp']))\n",
    "params.column_display_names['patients_per_gp'] = 'Patients per GP'\n",
    "\n",
    "\n",
    "df['appts_per_gp'] = (df['AttendanceOutcome_Attended'] + df['AttendanceOutcome_Unknown']) / (np.ceil(df['qualified_gp']) + np.ceil(df['training_gp']))\n",
    "params.column_display_names['appts_per_gp'] = 'Appointments per GP'\n",
    "\n",
    "efficiency_metrics = ['appts_per_gp']"
   ]
  },
  {
   "cell_type": "code",
   "execution_count": null,
   "metadata": {},
   "outputs": [],
   "source": [
    "df['patients_per_gp'] = df['numberofpatients'] / (df['qualified_gp'] + df['training_gp'])\n",
    "params.column_display_names['patients_per_gp'] = 'Patients per GP'\n",
    "\n",
    "\n",
    "df['appts_per_gp'] = df.apply(\n",
    "    lambda row: min(\n",
    "        (row['AttendanceOutcome_Attended'] + row['AttendanceOutcome_Unknown']) / (row['qualified_gp'] + row['training_gp']),\n",
    "        (row['AttendanceOutcome_Attended'] + row['AttendanceOutcome_Unknown'])\n",
    "    ), axis=1\n",
    ")\n",
    "params.column_display_names['appts_per_gp'] = 'Appointments per GP'\n",
    "\n",
    "efficiency_metrics = ['appts_per_gp']"
   ]
  },
  {
   "cell_type": "code",
   "execution_count": null,
   "metadata": {},
   "outputs": [],
   "source": [
    "fig, ax = plt.subplots(1, 4)\n",
    "sns.boxplot(df.patients_per_gp.rename(params.column_display_names['patients_per_gp']), ax=ax[3])\n",
    "sns.boxplot(df.appts_per_gp.rename(params.column_display_names['appts_per_gp']), ax=ax[0])\n",
    "sns.boxplot(df.training_gp.rename(params.column_display_names['training_gp']), ax=ax[1])\n",
    "sns.boxplot(df.qualified_gp.rename(params.column_display_names['qualified_gp']), ax=ax[2])\n",
    "\n",
    "plt.tight_layout()"
   ]
  },
  {
   "cell_type": "markdown",
   "metadata": {},
   "source": [
    "### Waiting times (Same day appointments)"
   ]
  },
  {
   "cell_type": "code",
   "execution_count": null,
   "metadata": {},
   "outputs": [],
   "source": [
    "df['same_day_appointment_percentage'] = df['BookingtoApptGap_SameDay'] / (df['AttendanceOutcome_Attended'] + df['AttendanceOutcome_Unknown'])\n",
    "params.column_display_names['same_day_appointment_percentage'] = 'Same-day Appointments (%)'\n",
    "\n",
    "waiting_times_metrics = ['same_day_appointment_percentage']"
   ]
  },
  {
   "cell_type": "markdown",
   "metadata": {},
   "source": [
    "### Digital Access"
   ]
  },
  {
   "cell_type": "code",
   "execution_count": null,
   "metadata": {},
   "outputs": [],
   "source": [
    "df['digital_access_percentage'] = (df['ApptModality_Telephone'] + df['ApptModality_VideoConferenceOnline']) / (df['AttendanceOutcome_Attended'] + df['AttendanceOutcome_Unknown'])\n",
    "params.column_display_names['digital_access_percentage'] = 'Digital Access (%)'\n",
    "\n",
    "digital_access_metrics = ['digital_access_percentage']"
   ]
  },
  {
   "cell_type": "markdown",
   "metadata": {},
   "source": [
    "### Attendance rate"
   ]
  },
  {
   "cell_type": "code",
   "execution_count": null,
   "metadata": {},
   "outputs": [],
   "source": [
    "df['attendance_rate'] = df['AttendanceOutcome_Attended'] / (df['AttendanceOutcome_Attended'] + df['AttendanceOutcome_Unknown'] + df['AttendanceOutcome_DNA'])\n",
    "params.column_display_names['attendance_rate'] = 'Attendance Rate (%)'\n",
    "\n",
    "attendance_metrics = ['attendance_rate']"
   ]
  },
  {
   "cell_type": "markdown",
   "metadata": {},
   "source": [
    "### Quality and Outcomes Framework (QOF)"
   ]
  },
  {
   "cell_type": "code",
   "execution_count": null,
   "metadata": {},
   "outputs": [],
   "source": [
    "df['qof_total'] = df.Total_QoF / 100\n",
    "params.column_display_names['qof_total'] = 'QoF Total (%)'\n",
    "\n",
    "df['qof_hypertension'] = df.Hypertension / 100\n",
    "params.column_display_names['qof_hypertension'] = 'QoF Hypertension (%)'\n",
    "\n",
    "df['qof_child_vaccination'] = df.ChildVaccination / 100\n",
    "params.column_display_names['qof_child_vaccination'] = 'QoF Child Vaccination (%)'\n",
    "\n",
    "qof_metrics = ['qof_total', 'qof_hypertension', 'qof_child_vaccination', 'EmergencyPresentationsCancer', 'AntibioticPrescribing']"
   ]
  },
  {
   "cell_type": "markdown",
   "metadata": {},
   "source": [
    "### Patient experience / satisfaction (GP Survey)"
   ]
  },
  {
   "cell_type": "code",
   "execution_count": null,
   "metadata": {},
   "outputs": [],
   "source": [
    "gp_survey_metrics = ['overallexp', 'lastgpapptneeds', 'lastgpapptwait', 'localgpservicesreception', 'gpcontactoverall']"
   ]
  },
  {
   "cell_type": "markdown",
   "metadata": {},
   "source": [
    "### CQC Ratings"
   ]
  },
  {
   "cell_type": "code",
   "execution_count": null,
   "metadata": {},
   "outputs": [],
   "source": [
    "cqc_rating_encoding = {'Outstanding': 4, 'Good': 3, 'Requires improvement': 2, 'Inadequate': 1}\n",
    "\n",
    "cqc_rating_columns = ['responsive', 'overall', 'wellled', 'effective', 'caring', 'safe']\n",
    "\n",
    "cqc_metrics = []\n",
    "for column in cqc_rating_columns:\n",
    "    cqc_metrics.append(f'{column}_coded')\n",
    "    df[f'{column}_coded'] = df[column].apply(lambda x : cqc_rating_encoding[x] if x in cqc_rating_encoding.keys() else np.nan)\n",
    "    params.column_display_names[f'{column}_coded'] = params.column_display_names[column]"
   ]
  },
  {
   "cell_type": "code",
   "execution_count": null,
   "metadata": {},
   "outputs": [],
   "source": [
    "performance_metrics = efficiency_metrics + waiting_times_metrics + digital_access_metrics + attendance_metrics + qof_metrics + gp_survey_metrics + cqc_metrics"
   ]
  },
  {
   "cell_type": "markdown",
   "metadata": {},
   "source": [
    "## Filter to just North Central London (NCL) ICB\n",
    "\n",
    "Filtering to just looking at GPs in NCL leaves us with 175 records, as specified in the Task Description."
   ]
  },
  {
   "cell_type": "code",
   "execution_count": null,
   "metadata": {},
   "outputs": [],
   "source": [
    "df_ncl = df[df.icb_code == params.ncl_icb]\n",
    "\n",
    "len(df_ncl) == 175"
   ]
  },
  {
   "cell_type": "markdown",
   "metadata": {},
   "source": [
    "## Multi-criteria Decision Analysis (MCDA)\n"
   ]
  },
  {
   "cell_type": "markdown",
   "metadata": {},
   "source": [
    "We wish to derive a composite score for each GP in NCL based on the performance metrics listed above."
   ]
  },
  {
   "cell_type": "markdown",
   "metadata": {},
   "source": [
    "### Missing Data"
   ]
  },
  {
   "cell_type": "markdown",
   "metadata": {},
   "source": [
    "First, we must deal with missing values for these performance metrics. We will impute the NCL median when a performance metric is unavailable."
   ]
  },
  {
   "cell_type": "code",
   "execution_count": null,
   "metadata": {},
   "outputs": [],
   "source": [
    "df_ncl[params.performance_metrics.metric].isna().sum()"
   ]
  },
  {
   "cell_type": "code",
   "execution_count": null,
   "metadata": {},
   "outputs": [],
   "source": [
    "df_ncl_median_imputed = df_ncl.copy()\n",
    "df_ncl_median_imputed[params.performance_metrics.metric] = df_ncl[params.performance_metrics.metric].fillna(df_ncl[params.performance_metrics.metric].median())"
   ]
  },
  {
   "cell_type": "markdown",
   "metadata": {},
   "source": [
    "### Scaling / Normalisation of Metrics\n",
    "\n",
    "We normalise the performance metrics to all have the same scale. This is so that when we aggregate them to obtain a composite score, they all carry the same weight.\n",
    "\n",
    "Min max normalisation is used.\n",
    "\n",
    "We want a higher score to be a good thing, so some metrics will need 'inverting'."
   ]
  },
  {
   "cell_type": "code",
   "execution_count": null,
   "metadata": {},
   "outputs": [],
   "source": [
    "normalised_metrics = []\n",
    "for i, (metric, invert) in enumerate(zip(params.performance_metrics.metric, params.performance_metrics.invert)):\n",
    "    normalised_metrics.append(f'{metric}_norm')\n",
    "    if invert:\n",
    "        df_ncl_median_imputed[f'{metric}_norm'] = 1 - utils.min_max_normalisation(df_ncl_median_imputed[metric])\n",
    "    else:\n",
    "        df_ncl_median_imputed[f'{metric}_norm'] = utils.min_max_normalisation(df_ncl_median_imputed[metric])"
   ]
  },
  {
   "cell_type": "code",
   "execution_count": null,
   "metadata": {},
   "outputs": [],
   "source": [
    "df_ncl_median_imputed[normalised_metrics].describe()"
   ]
  },
  {
   "cell_type": "markdown",
   "metadata": {},
   "source": [
    "### Assign weights to each performance metric"
   ]
  },
  {
   "cell_type": "markdown",
   "metadata": {},
   "source": [
    "This is where I would seek stakeholder engagement to understand which performance measures we are most interested in. These would then be assigned more weight.\n",
    "\n",
    "Please see the parameters.py file for the parameters used in this analysis"
   ]
  },
  {
   "cell_type": "markdown",
   "metadata": {},
   "source": [
    "### Obtain Composite Score"
   ]
  },
  {
   "cell_type": "code",
   "execution_count": null,
   "metadata": {},
   "outputs": [],
   "source": [
    "df_ncl_median_imputed['performance_score'] = df_ncl_median_imputed[normalised_metrics].mul(list(params.performance_metrics.weight / params.performance_metrics.weight.sum()), axis = 1).sum(axis = 1)\n",
    "df_ncl_median_imputed['performance_score'].describe()"
   ]
  },
  {
   "cell_type": "code",
   "execution_count": null,
   "metadata": {},
   "outputs": [],
   "source": [
    "df_ncl_gps_ranked = df_ncl_median_imputed.sort_values(by = 'performance_score', ascending = True)"
   ]
  },
  {
   "cell_type": "markdown",
   "metadata": {},
   "source": [
    "### Analysis of Composite Score"
   ]
  },
  {
   "cell_type": "code",
   "execution_count": null,
   "metadata": {},
   "outputs": [],
   "source": [
    "plt.figure(figsize = (20, 10))\n",
    "plt.bar(df_ncl_gps_ranked.gp_code, df_ncl_gps_ranked.performance_score)"
   ]
  },
  {
   "cell_type": "markdown",
   "metadata": {},
   "source": [
    "Lowest performing GPs in NCL"
   ]
  },
  {
   "cell_type": "code",
   "execution_count": null,
   "metadata": {},
   "outputs": [],
   "source": [
    "df_ncl_gps_ranked[0:7][['gp_code', 'performance_score'] + performance_metrics]"
   ]
  },
  {
   "cell_type": "code",
   "execution_count": null,
   "metadata": {},
   "outputs": [],
   "source": [
    "plt.hist(df_ncl_median_imputed.performance_score, bins = 20)\n",
    "plt.xlim(0, 1)\n",
    "\n",
    "plt.savefig(params.OUTPUTS_DIR / 'performance-score-distribution.png')"
   ]
  },
  {
   "cell_type": "code",
   "execution_count": null,
   "metadata": {},
   "outputs": [],
   "source": [
    "fig, ax = plt.subplots(5, 3, figsize=(10,15))\n",
    "\n",
    "for i, metric in enumerate(['performance_score'] + performance_metrics[0:-6]):\n",
    "    if metric == 'performance_score':\n",
    "        df_boxplot = df_ncl_median_imputed[metric].rename('Composite Performance Score')\n",
    "    else:\n",
    "        df_boxplot = df_ncl_median_imputed[metric].rename(params.column_display_names[metric])\n",
    "    sns.boxplot(df_boxplot, ax=ax[i//3, i%3], width = 0.2)\n",
    "\n",
    "plt.tight_layout()\n",
    "\n",
    "plt.savefig(params.OUTPUTS_DIR / 'performance-boxplot.png')"
   ]
  },
  {
   "cell_type": "markdown",
   "metadata": {},
   "source": [
    "#### Map Plot"
   ]
  },
  {
   "cell_type": "code",
   "execution_count": null,
   "metadata": {},
   "outputs": [],
   "source": [
    "### WARNING: This cell may take a long time to run (approx. 3 minutes)\n",
    "\n",
    "# Geocode the postcodes\n",
    "geolocator = Nominatim(user_agent=\"gp_performance_mapper\")\n",
    "geocode = RateLimiter(geolocator.geocode, min_delay_seconds=1)\n",
    "\n",
    "df_ncl_median_imputed['location'] = df_ncl_median_imputed['postcode'].apply(geocode)\n",
    "df_ncl_median_imputed['point'] = df_ncl_median_imputed['location'].apply(lambda loc: tuple(loc.point) if loc else None)\n",
    "\n",
    "# Drop rows with missing geocoded data\n",
    "df_ncl_median_imputed = df_ncl_median_imputed.dropna(subset=['point'])\n",
    "\n",
    "# Create a GeoDataFrame\n",
    "gdf = gpd.GeoDataFrame(df_ncl_median_imputed, geometry=gpd.points_from_xy(df_ncl_median_imputed['point'].apply(lambda x: x[1]), df_ncl_median_imputed['point'].apply(lambda x: x[0])))\n",
    "gdf.crs = \"EPSG:4326\""
   ]
  },
  {
   "cell_type": "code",
   "execution_count": null,
   "metadata": {},
   "outputs": [],
   "source": [
    "# Plotting\n",
    "fig, ax = plt.subplots(1, 1, figsize=(10, 10))\n",
    "gdf.plot(column='performance_score', ax=ax, legend=False, cmap='coolwarm', markersize=50)\n",
    "\n",
    "# Add basemap\n",
    "ctx.add_basemap(ax, crs=gdf.crs, source=ctx.providers.CartoDB.Positron)\n",
    "\n",
    "# Add colorbar with label\n",
    "sm = plt.cm.ScalarMappable(cmap='coolwarm', norm=plt.Normalize(vmin=gdf['performance_score'].min(), vmax=gdf['performance_score'].max()))\n",
    "sm._A = []\n",
    "cbar = plt.colorbar(sm, ax=ax)\n",
    "cbar.set_label('Performance Score')\n",
    "\n",
    "# Add title and labels\n",
    "plt.title('GP Performance Map')\n",
    "plt.xlabel('Longitude')\n",
    "plt.ylabel('Latitude')\n",
    "\n",
    "plt.savefig(params.OUTPUTS_DIR / 'performance-map.png')\n",
    "\n",
    "# Show plot\n",
    "plt.show()"
   ]
  },
  {
   "cell_type": "markdown",
   "metadata": {},
   "source": [
    "#### Correlation Matrix"
   ]
  },
  {
   "cell_type": "code",
   "execution_count": null,
   "metadata": {},
   "outputs": [],
   "source": [
    "cmap = sns.diverging_palette(230,20,as_cmap=True)\n",
    "\n",
    "#plt.figure(figsize=(20, 10))\n",
    "sns.heatmap(df_ncl[['IMD2019', 'patients_per_gp'] + performance_metrics].corr(), cmap=cmap)\n",
    "#plt.tight_layout()\n",
    "\n",
    "plt.savefig(params.OUTPUTS_DIR / 'correlation-heatmap.pdf')"
   ]
  }
 ],
 "metadata": {
  "kernelspec": {
   "display_name": ".venv",
   "language": "python",
   "name": "python3"
  },
  "language_info": {
   "codemirror_mode": {
    "name": "ipython",
    "version": 3
   },
   "file_extension": ".py",
   "mimetype": "text/x-python",
   "name": "python",
   "nbconvert_exporter": "python",
   "pygments_lexer": "ipython3",
   "version": "3.12.1"
  }
 },
 "nbformat": 4,
 "nbformat_minor": 2
}
